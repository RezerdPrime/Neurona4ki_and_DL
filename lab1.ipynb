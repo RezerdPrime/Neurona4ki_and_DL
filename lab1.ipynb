{
 "cells": [
  {
   "cell_type": "code",
   "execution_count": 480,
   "id": "89269618",
   "metadata": {},
   "outputs": [],
   "source": [
    "import pandas as pd\n",
    "import numpy as np\n",
    "import matplotlib.pyplot as plt\n",
    "import seaborn as sns\n",
    "from scipy import stats\n",
    "\n",
    "from datasets import load_dataset\n",
    "\n",
    "data = load_dataset(\"marksverdhei/data-by-countries\")"
   ]
  },
  {
   "cell_type": "code",
   "execution_count": 481,
   "id": "97b49cf0",
   "metadata": {},
   "outputs": [],
   "source": [
    "Z_THRESHOLD = 3\n",
    "SEED = 42\n",
    "\n",
    "# np.random.seed(SEED)"
   ]
  },
  {
   "cell_type": "markdown",
   "id": "cec1d633",
   "metadata": {},
   "source": [
    "# Обработка пропусков"
   ]
  },
  {
   "cell_type": "code",
   "execution_count": 482,
   "id": "4f237518",
   "metadata": {},
   "outputs": [
    {
     "data": {
      "text/plain": [
       "DatasetDict({\n",
       "    train: Dataset({\n",
       "        features: ['Unnamed: 0', 'HDI', 'IHDI', 'Country', 'Year', 'democracy_eiu', 'democracy_eiu_normalized', 'regime_category', 'Happiness_Score', 'wpi', 'FH_WFI_TOTAL'],\n",
       "        num_rows: 201\n",
       "    })\n",
       "})"
      ]
     },
     "execution_count": 482,
     "metadata": {},
     "output_type": "execute_result"
    }
   ],
   "source": [
    "data"
   ]
  },
  {
   "cell_type": "code",
   "execution_count": 483,
   "id": "8c460d35",
   "metadata": {},
   "outputs": [],
   "source": [
    "data = data[\"train\"].to_pandas()"
   ]
  },
  {
   "cell_type": "code",
   "execution_count": 484,
   "id": "ac77dbbf",
   "metadata": {},
   "outputs": [
    {
     "name": "stdout",
     "output_type": "stream",
     "text": [
      "<class 'pandas.core.frame.DataFrame'>\n",
      "RangeIndex: 201 entries, 0 to 200\n",
      "Data columns (total 11 columns):\n",
      " #   Column                    Non-Null Count  Dtype  \n",
      "---  ------                    --------------  -----  \n",
      " 0   Unnamed: 0                201 non-null    object \n",
      " 1   HDI                       193 non-null    float64\n",
      " 2   IHDI                      193 non-null    float64\n",
      " 3   Country                   194 non-null    object \n",
      " 4   Year                      201 non-null    int64  \n",
      " 5   democracy_eiu             148 non-null    float64\n",
      " 6   democracy_eiu_normalized  148 non-null    float64\n",
      " 7   regime_category           148 non-null    object \n",
      " 8   Happiness_Score           137 non-null    float64\n",
      " 9   wpi                       180 non-null    float64\n",
      " 10  FH_WFI_TOTAL              197 non-null    float64\n",
      "dtypes: float64(7), int64(1), object(3)\n",
      "memory usage: 17.4+ KB\n"
     ]
    }
   ],
   "source": [
    "data.info()"
   ]
  },
  {
   "cell_type": "code",
   "execution_count": 485,
   "id": "49eac48d",
   "metadata": {},
   "outputs": [
    {
     "data": {
      "application/vnd.microsoft.datawrangler.viewer.v0+json": {
       "columns": [
        {
         "name": "index",
         "rawType": "int64",
         "type": "integer"
        },
        {
         "name": "Unnamed: 0",
         "rawType": "object",
         "type": "string"
        },
        {
         "name": "HDI",
         "rawType": "float64",
         "type": "float"
        },
        {
         "name": "IHDI",
         "rawType": "float64",
         "type": "float"
        },
        {
         "name": "Country",
         "rawType": "object",
         "type": "string"
        },
        {
         "name": "Year",
         "rawType": "int64",
         "type": "integer"
        },
        {
         "name": "democracy_eiu",
         "rawType": "float64",
         "type": "float"
        },
        {
         "name": "democracy_eiu_normalized",
         "rawType": "float64",
         "type": "float"
        },
        {
         "name": "regime_category",
         "rawType": "object",
         "type": "string"
        },
        {
         "name": "Happiness_Score",
         "rawType": "float64",
         "type": "float"
        },
        {
         "name": "wpi",
         "rawType": "float64",
         "type": "float"
        },
        {
         "name": "FH_WFI_TOTAL",
         "rawType": "float64",
         "type": "float"
        }
       ],
       "ref": "e6658fff-4bda-4b65-9deb-77656037b5b8",
       "rows": [
        [
         "0",
         "CHE",
         "0.967",
         "0.891",
         "Switzerland",
         "2023",
         "9.14",
         "0.914",
         "Full democracy",
         "7.240099906921387",
         "84.01",
         "96.0"
        ],
        [
         "1",
         "NOR",
         "0.966",
         "0.903",
         "Norway",
         "2023",
         "9.81",
         "0.981",
         "Full democracy",
         "7.315499782562256",
         "91.89",
         "100.0"
        ],
        [
         "2",
         "ISL",
         "0.959",
         "0.91",
         "Iceland",
         "2023",
         "9.45",
         "0.945",
         "Full democracy",
         "7.529600143432617",
         "80.13",
         "94.0"
        ],
        [
         "3",
         "HKG",
         "0.956",
         "0.84",
         "Hong Kong",
         "2023",
         "5.24",
         "0.524",
         "Hybrid regime",
         "5.308499813079834",
         "43.06",
         "42.0"
        ],
        [
         "4",
         "DNK",
         "0.952",
         "0.898",
         "Denmark",
         "2023",
         "9.28",
         "0.928",
         "Full democracy",
         "7.586400032043457",
         "89.6",
         "97.0"
        ]
       ],
       "shape": {
        "columns": 11,
        "rows": 5
       }
      },
      "text/html": [
       "<div>\n",
       "<style scoped>\n",
       "    .dataframe tbody tr th:only-of-type {\n",
       "        vertical-align: middle;\n",
       "    }\n",
       "\n",
       "    .dataframe tbody tr th {\n",
       "        vertical-align: top;\n",
       "    }\n",
       "\n",
       "    .dataframe thead th {\n",
       "        text-align: right;\n",
       "    }\n",
       "</style>\n",
       "<table border=\"1\" class=\"dataframe\">\n",
       "  <thead>\n",
       "    <tr style=\"text-align: right;\">\n",
       "      <th></th>\n",
       "      <th>Unnamed: 0</th>\n",
       "      <th>HDI</th>\n",
       "      <th>IHDI</th>\n",
       "      <th>Country</th>\n",
       "      <th>Year</th>\n",
       "      <th>democracy_eiu</th>\n",
       "      <th>democracy_eiu_normalized</th>\n",
       "      <th>regime_category</th>\n",
       "      <th>Happiness_Score</th>\n",
       "      <th>wpi</th>\n",
       "      <th>FH_WFI_TOTAL</th>\n",
       "    </tr>\n",
       "  </thead>\n",
       "  <tbody>\n",
       "    <tr>\n",
       "      <th>0</th>\n",
       "      <td>CHE</td>\n",
       "      <td>0.967</td>\n",
       "      <td>0.891</td>\n",
       "      <td>Switzerland</td>\n",
       "      <td>2023</td>\n",
       "      <td>9.14</td>\n",
       "      <td>0.914</td>\n",
       "      <td>Full democracy</td>\n",
       "      <td>7.2401</td>\n",
       "      <td>84.01</td>\n",
       "      <td>96.0</td>\n",
       "    </tr>\n",
       "    <tr>\n",
       "      <th>1</th>\n",
       "      <td>NOR</td>\n",
       "      <td>0.966</td>\n",
       "      <td>0.903</td>\n",
       "      <td>Norway</td>\n",
       "      <td>2023</td>\n",
       "      <td>9.81</td>\n",
       "      <td>0.981</td>\n",
       "      <td>Full democracy</td>\n",
       "      <td>7.3155</td>\n",
       "      <td>91.89</td>\n",
       "      <td>100.0</td>\n",
       "    </tr>\n",
       "    <tr>\n",
       "      <th>2</th>\n",
       "      <td>ISL</td>\n",
       "      <td>0.959</td>\n",
       "      <td>0.910</td>\n",
       "      <td>Iceland</td>\n",
       "      <td>2023</td>\n",
       "      <td>9.45</td>\n",
       "      <td>0.945</td>\n",
       "      <td>Full democracy</td>\n",
       "      <td>7.5296</td>\n",
       "      <td>80.13</td>\n",
       "      <td>94.0</td>\n",
       "    </tr>\n",
       "    <tr>\n",
       "      <th>3</th>\n",
       "      <td>HKG</td>\n",
       "      <td>0.956</td>\n",
       "      <td>0.840</td>\n",
       "      <td>Hong Kong</td>\n",
       "      <td>2023</td>\n",
       "      <td>5.24</td>\n",
       "      <td>0.524</td>\n",
       "      <td>Hybrid regime</td>\n",
       "      <td>5.3085</td>\n",
       "      <td>43.06</td>\n",
       "      <td>42.0</td>\n",
       "    </tr>\n",
       "    <tr>\n",
       "      <th>4</th>\n",
       "      <td>DNK</td>\n",
       "      <td>0.952</td>\n",
       "      <td>0.898</td>\n",
       "      <td>Denmark</td>\n",
       "      <td>2023</td>\n",
       "      <td>9.28</td>\n",
       "      <td>0.928</td>\n",
       "      <td>Full democracy</td>\n",
       "      <td>7.5864</td>\n",
       "      <td>89.60</td>\n",
       "      <td>97.0</td>\n",
       "    </tr>\n",
       "  </tbody>\n",
       "</table>\n",
       "</div>"
      ],
      "text/plain": [
       "  Unnamed: 0    HDI   IHDI      Country  Year  democracy_eiu  \\\n",
       "0        CHE  0.967  0.891  Switzerland  2023           9.14   \n",
       "1        NOR  0.966  0.903       Norway  2023           9.81   \n",
       "2        ISL  0.959  0.910      Iceland  2023           9.45   \n",
       "3        HKG  0.956  0.840    Hong Kong  2023           5.24   \n",
       "4        DNK  0.952  0.898      Denmark  2023           9.28   \n",
       "\n",
       "   democracy_eiu_normalized regime_category  Happiness_Score    wpi  \\\n",
       "0                     0.914  Full democracy           7.2401  84.01   \n",
       "1                     0.981  Full democracy           7.3155  91.89   \n",
       "2                     0.945  Full democracy           7.5296  80.13   \n",
       "3                     0.524   Hybrid regime           5.3085  43.06   \n",
       "4                     0.928  Full democracy           7.5864  89.60   \n",
       "\n",
       "   FH_WFI_TOTAL  \n",
       "0          96.0  \n",
       "1         100.0  \n",
       "2          94.0  \n",
       "3          42.0  \n",
       "4          97.0  "
      ]
     },
     "execution_count": 485,
     "metadata": {},
     "output_type": "execute_result"
    }
   ],
   "source": [
    "data.head()"
   ]
  },
  {
   "cell_type": "code",
   "execution_count": 486,
   "id": "562a052d",
   "metadata": {},
   "outputs": [
    {
     "data": {
      "application/vnd.microsoft.datawrangler.viewer.v0+json": {
       "columns": [
        {
         "name": "index",
         "rawType": "int64",
         "type": "integer"
        },
        {
         "name": "HDI",
         "rawType": "float64",
         "type": "float"
        },
        {
         "name": "IHDI",
         "rawType": "float64",
         "type": "float"
        },
        {
         "name": "democracy_eiu",
         "rawType": "float64",
         "type": "float"
        },
        {
         "name": "Happiness_Score",
         "rawType": "float64",
         "type": "float"
        },
        {
         "name": "wpi",
         "rawType": "float64",
         "type": "float"
        },
        {
         "name": "FH_WFI_TOTAL",
         "rawType": "float64",
         "type": "float"
        }
       ],
       "ref": "8ef3a26c-f356-4f26-8768-1937940b66a5",
       "rows": [
        [
         "0",
         "0.967",
         "0.891",
         "9.14",
         "7.240099906921387",
         "84.01",
         "96.0"
        ],
        [
         "1",
         "0.966",
         "0.903",
         "9.81",
         "7.315499782562256",
         "91.89",
         "100.0"
        ],
        [
         "2",
         "0.959",
         "0.91",
         "9.45",
         "7.529600143432617",
         "80.13",
         "94.0"
        ],
        [
         "3",
         "0.956",
         "0.84",
         "5.24",
         "5.308499813079834",
         "43.06",
         "42.0"
        ],
        [
         "4",
         "0.952",
         "0.898",
         "9.28",
         "7.586400032043457",
         "89.6",
         "97.0"
        ],
        [
         "5",
         "0.952",
         "0.878",
         "9.39",
         "7.395199775695801",
         "88.32",
         "100.0"
        ],
        [
         "6",
         "0.95",
         "0.881",
         "8.8",
         "6.8917999267578125",
         "83.84",
         "94.0"
        ],
        [
         "7",
         "0.95",
         "0.886",
         "9.19",
         "6.910799980163574",
         "85.59",
         "97.0"
        ],
        [
         "8",
         "0.949",
         "0.825",
         "6.18",
         "6.586699962615967",
         "47.19",
         "47.0"
        ],
        [
         "9",
         "0.946",
         "0.86",
         "8.66",
         "7.094600200653076",
         "73.42",
         "95.0"
        ],
        [
         "10",
         "0.946",
         "0.885",
         "9.0",
         "7.402999877929687",
         "87.73",
         "97.0"
        ],
        [
         "11",
         "0.942",
         "0.878",
         "7.64",
         "6.859099864959717",
         "81.49",
         "96.0"
        ],
        [
         "12",
         "0.942",
         "0.886",
         "9.3",
         "7.804200172424316",
         "86.55",
         "100.0"
        ],
        [
         "13",
         "0.942",
         "0.942",
         null,
         null,
         "81.52",
         "90.0"
        ],
        [
         "14",
         "0.94",
         "0.865",
         "8.28",
         "6.795599937438965",
         "77.51",
         "93.0"
        ],
        [
         "15",
         "0.939",
         "0.856",
         "9.61",
         "7.122900009155273",
         "79.72",
         "99.0"
        ],
        [
         "16",
         "0.937",
         "0.859",
         "3.01",
         "6.571199893951416",
         "30.62",
         "18.0"
        ],
        [
         "17",
         "0.935",
         "0.864",
         "8.69",
         "6.960700035095215",
         "81.7",
         "98.0"
        ],
        [
         "18",
         "0.929",
         "0.841",
         "8.09",
         "5.951099872589111",
         "64.87",
         "83.0"
        ],
        [
         "19",
         "0.927",
         "0.839",
         "8.81",
         "7.22790002822876",
         "83.8",
         "97.0"
        ],
        [
         "20",
         "0.927",
         "0.823",
         "7.85",
         "6.893700122833252",
         "66.59",
         "83.0"
        ],
        [
         "21",
         "0.926",
         "0.859",
         "8.28",
         "7.097300052642822",
         "74.69",
         "93.0"
        ],
        [
         "22",
         "0.926",
         "0.882",
         "7.75",
         "6.649899959564209",
         "72.6",
         "95.0"
        ],
        [
         "23",
         "0.92",
         "0.844",
         "8.4",
         "6.129000186920166",
         "62.12",
         "96.0"
        ],
        [
         "24",
         "0.915",
         "0.808",
         "7.8",
         "7.472899913787842",
         "53.23",
         "77.0"
        ],
        [
         "25",
         "0.915",
         "0.837",
         "7.93",
         "6.299900054931641",
         "60.96",
         "89.0"
        ],
        [
         "26",
         "0.911",
         "0.796",
         "8.07",
         "6.436200141906738",
         "76.01",
         "90.0"
        ],
        [
         "27",
         "0.91",
         "0.82",
         "8.07",
         "6.661300182342529",
         "78.65",
         "89.0"
        ],
        [
         "28",
         "0.907",
         "0.827",
         "7.38",
         "6.130000114440918",
         "63.14",
         "92.0"
        ],
        [
         "29",
         "0.906",
         "0.802",
         "7.69",
         "6.4045000076293945",
         "69.8",
         "90.0"
        ],
        [
         "30",
         "0.899",
         "0.835",
         "7.96",
         "6.4552001953125",
         "86.44",
         "94.0"
        ],
        [
         "31",
         "0.895",
         "0.848",
         "7.97",
         "6.845200061798096",
         "80.14",
         "92.0"
        ],
        [
         "32",
         "0.893",
         "0.801",
         "8.14",
         "5.930900096893311",
         "57.15",
         "86.0"
        ],
        [
         "33",
         "0.888",
         "0.888",
         "2.52",
         "6.173200130462647",
         "23.21",
         "12.0"
        ],
        [
         "34",
         "0.884",
         "0.81",
         null,
         null,
         "61.44",
         "93.0"
        ],
        [
         "35",
         "0.881",
         "0.797",
         "7.18",
         "6.259699821472168",
         "69.17",
         "81.0"
        ],
        [
         "36",
         "0.879",
         "0.802",
         "7.38",
         "6.212699890136719",
         "82.9",
         "88.0"
        ],
        [
         "37",
         "0.879",
         "0.795",
         "7.31",
         "6.763000011444092",
         "81.73",
         "89.0"
        ],
        [
         "38",
         "0.878",
         "0.817",
         "6.5",
         "6.125",
         "68.79",
         "84.0"
        ],
        [
         "39",
         "0.875",
         "0.875",
         "3.65",
         null,
         "58.48",
         "25.0"
        ],
        [
         "40",
         "0.875",
         "0.875",
         null,
         "6.462600231170654",
         "27.14",
         "8.0"
        ],
        [
         "41",
         "0.874",
         "0.774",
         "7.75",
         "5.9679999351501465",
         "85.9",
         "96.0"
        ],
        [
         "42",
         "0.867",
         "0.867",
         null,
         null,
         null,
         "97.0"
        ],
        [
         "43",
         "0.86",
         "0.704",
         "7.98",
         "6.333799839019775",
         "67.32",
         "94.0"
        ],
        [
         "44",
         "0.855",
         "0.808",
         "7.07",
         "6.468599796295166",
         "76.03",
         "90.0"
        ],
        [
         "45",
         "0.855",
         "0.717",
         "4.33",
         null,
         "31.6",
         "32.0"
        ],
        [
         "46",
         "0.851",
         "0.8",
         "6.72",
         "6.041200160980225",
         "62.98",
         "66.0"
        ],
        [
         "47",
         "0.849",
         "0.747",
         "6.62",
         "6.02370023727417",
         "63.13",
         "85.0"
        ],
        [
         "48",
         "0.847",
         "0.847",
         "3.5",
         null,
         "44.66",
         "37.0"
        ],
        [
         "49",
         "0.844",
         "0.756",
         "6.67",
         "5.7221999168396",
         "73.21",
         "67.0"
        ]
       ],
       "shape": {
        "columns": 6,
        "rows": 201
       }
      },
      "text/html": [
       "<div>\n",
       "<style scoped>\n",
       "    .dataframe tbody tr th:only-of-type {\n",
       "        vertical-align: middle;\n",
       "    }\n",
       "\n",
       "    .dataframe tbody tr th {\n",
       "        vertical-align: top;\n",
       "    }\n",
       "\n",
       "    .dataframe thead th {\n",
       "        text-align: right;\n",
       "    }\n",
       "</style>\n",
       "<table border=\"1\" class=\"dataframe\">\n",
       "  <thead>\n",
       "    <tr style=\"text-align: right;\">\n",
       "      <th></th>\n",
       "      <th>HDI</th>\n",
       "      <th>IHDI</th>\n",
       "      <th>democracy_eiu</th>\n",
       "      <th>Happiness_Score</th>\n",
       "      <th>wpi</th>\n",
       "      <th>FH_WFI_TOTAL</th>\n",
       "    </tr>\n",
       "  </thead>\n",
       "  <tbody>\n",
       "    <tr>\n",
       "      <th>0</th>\n",
       "      <td>0.967</td>\n",
       "      <td>0.891</td>\n",
       "      <td>9.14</td>\n",
       "      <td>7.2401</td>\n",
       "      <td>84.01</td>\n",
       "      <td>96.0</td>\n",
       "    </tr>\n",
       "    <tr>\n",
       "      <th>1</th>\n",
       "      <td>0.966</td>\n",
       "      <td>0.903</td>\n",
       "      <td>9.81</td>\n",
       "      <td>7.3155</td>\n",
       "      <td>91.89</td>\n",
       "      <td>100.0</td>\n",
       "    </tr>\n",
       "    <tr>\n",
       "      <th>2</th>\n",
       "      <td>0.959</td>\n",
       "      <td>0.910</td>\n",
       "      <td>9.45</td>\n",
       "      <td>7.5296</td>\n",
       "      <td>80.13</td>\n",
       "      <td>94.0</td>\n",
       "    </tr>\n",
       "    <tr>\n",
       "      <th>3</th>\n",
       "      <td>0.956</td>\n",
       "      <td>0.840</td>\n",
       "      <td>5.24</td>\n",
       "      <td>5.3085</td>\n",
       "      <td>43.06</td>\n",
       "      <td>42.0</td>\n",
       "    </tr>\n",
       "    <tr>\n",
       "      <th>4</th>\n",
       "      <td>0.952</td>\n",
       "      <td>0.898</td>\n",
       "      <td>9.28</td>\n",
       "      <td>7.5864</td>\n",
       "      <td>89.60</td>\n",
       "      <td>97.0</td>\n",
       "    </tr>\n",
       "    <tr>\n",
       "      <th>...</th>\n",
       "      <td>...</td>\n",
       "      <td>...</td>\n",
       "      <td>...</td>\n",
       "      <td>...</td>\n",
       "      <td>...</td>\n",
       "      <td>...</td>\n",
       "    </tr>\n",
       "    <tr>\n",
       "      <th>196</th>\n",
       "      <td>NaN</td>\n",
       "      <td>NaN</td>\n",
       "      <td>NaN</td>\n",
       "      <td>NaN</td>\n",
       "      <td>60.19</td>\n",
       "      <td>NaN</td>\n",
       "    </tr>\n",
       "    <tr>\n",
       "      <th>197</th>\n",
       "      <td>NaN</td>\n",
       "      <td>NaN</td>\n",
       "      <td>NaN</td>\n",
       "      <td>NaN</td>\n",
       "      <td>56.72</td>\n",
       "      <td>NaN</td>\n",
       "    </tr>\n",
       "    <tr>\n",
       "      <th>198</th>\n",
       "      <td>NaN</td>\n",
       "      <td>NaN</td>\n",
       "      <td>NaN</td>\n",
       "      <td>NaN</td>\n",
       "      <td>20.66</td>\n",
       "      <td>3.0</td>\n",
       "    </tr>\n",
       "    <tr>\n",
       "      <th>199</th>\n",
       "      <td>NaN</td>\n",
       "      <td>NaN</td>\n",
       "      <td>NaN</td>\n",
       "      <td>NaN</td>\n",
       "      <td>NaN</td>\n",
       "      <td>84.0</td>\n",
       "    </tr>\n",
       "    <tr>\n",
       "      <th>200</th>\n",
       "      <td>NaN</td>\n",
       "      <td>NaN</td>\n",
       "      <td>NaN</td>\n",
       "      <td>NaN</td>\n",
       "      <td>NaN</td>\n",
       "      <td>4.0</td>\n",
       "    </tr>\n",
       "  </tbody>\n",
       "</table>\n",
       "<p>201 rows × 6 columns</p>\n",
       "</div>"
      ],
      "text/plain": [
       "       HDI   IHDI  democracy_eiu  Happiness_Score    wpi  FH_WFI_TOTAL\n",
       "0    0.967  0.891           9.14           7.2401  84.01          96.0\n",
       "1    0.966  0.903           9.81           7.3155  91.89         100.0\n",
       "2    0.959  0.910           9.45           7.5296  80.13          94.0\n",
       "3    0.956  0.840           5.24           5.3085  43.06          42.0\n",
       "4    0.952  0.898           9.28           7.5864  89.60          97.0\n",
       "..     ...    ...            ...              ...    ...           ...\n",
       "196    NaN    NaN            NaN              NaN  60.19           NaN\n",
       "197    NaN    NaN            NaN              NaN  56.72           NaN\n",
       "198    NaN    NaN            NaN              NaN  20.66           3.0\n",
       "199    NaN    NaN            NaN              NaN    NaN          84.0\n",
       "200    NaN    NaN            NaN              NaN    NaN           4.0\n",
       "\n",
       "[201 rows x 6 columns]"
      ]
     },
     "execution_count": 486,
     "metadata": {},
     "output_type": "execute_result"
    }
   ],
   "source": [
    "# парочку числовых срезал исходя из наблюдений через data wrangler (например year имеет лишь одно уникальное значение)\n",
    "data = data.drop([\"Unnamed: 0\", \"Country\", \"democracy_eiu_normalized\", \"regime_category\", \"Year\"], axis=1)\n",
    "data"
   ]
  },
  {
   "cell_type": "code",
   "execution_count": 487,
   "id": "a7dfe0b9",
   "metadata": {},
   "outputs": [
    {
     "data": {
      "application/vnd.microsoft.datawrangler.viewer.v0+json": {
       "columns": [
        {
         "name": "index",
         "rawType": "int64",
         "type": "integer"
        },
        {
         "name": "HDI",
         "rawType": "float64",
         "type": "float"
        },
        {
         "name": "IHDI",
         "rawType": "float64",
         "type": "float"
        },
        {
         "name": "democracy_eiu",
         "rawType": "float64",
         "type": "float"
        },
        {
         "name": "Happiness_Score",
         "rawType": "float64",
         "type": "float"
        },
        {
         "name": "wpi",
         "rawType": "float64",
         "type": "float"
        },
        {
         "name": "FH_WFI_TOTAL",
         "rawType": "float64",
         "type": "float"
        }
       ],
       "ref": "b520029a-2036-46fc-9428-7126d02d3677",
       "rows": [
        [
         "0",
         "0.967",
         "0.891",
         "9.14",
         "7.240099906921387",
         "84.01",
         "96.0"
        ],
        [
         "1",
         "0.966",
         "0.903",
         "9.81",
         "7.315499782562256",
         "91.89",
         "100.0"
        ],
        [
         "2",
         "0.959",
         "0.91",
         "9.45",
         "7.529600143432617",
         "80.13",
         "94.0"
        ],
        [
         "3",
         "0.956",
         "0.84",
         "5.24",
         "5.308499813079834",
         "43.06",
         "42.0"
        ],
        [
         "4",
         "0.952",
         "0.898",
         "9.28",
         "7.586400032043457",
         "89.6",
         "97.0"
        ]
       ],
       "shape": {
        "columns": 6,
        "rows": 5
       }
      },
      "text/html": [
       "<div>\n",
       "<style scoped>\n",
       "    .dataframe tbody tr th:only-of-type {\n",
       "        vertical-align: middle;\n",
       "    }\n",
       "\n",
       "    .dataframe tbody tr th {\n",
       "        vertical-align: top;\n",
       "    }\n",
       "\n",
       "    .dataframe thead th {\n",
       "        text-align: right;\n",
       "    }\n",
       "</style>\n",
       "<table border=\"1\" class=\"dataframe\">\n",
       "  <thead>\n",
       "    <tr style=\"text-align: right;\">\n",
       "      <th></th>\n",
       "      <th>HDI</th>\n",
       "      <th>IHDI</th>\n",
       "      <th>democracy_eiu</th>\n",
       "      <th>Happiness_Score</th>\n",
       "      <th>wpi</th>\n",
       "      <th>FH_WFI_TOTAL</th>\n",
       "    </tr>\n",
       "  </thead>\n",
       "  <tbody>\n",
       "    <tr>\n",
       "      <th>0</th>\n",
       "      <td>0.967</td>\n",
       "      <td>0.891</td>\n",
       "      <td>9.14</td>\n",
       "      <td>7.2401</td>\n",
       "      <td>84.01</td>\n",
       "      <td>96.0</td>\n",
       "    </tr>\n",
       "    <tr>\n",
       "      <th>1</th>\n",
       "      <td>0.966</td>\n",
       "      <td>0.903</td>\n",
       "      <td>9.81</td>\n",
       "      <td>7.3155</td>\n",
       "      <td>91.89</td>\n",
       "      <td>100.0</td>\n",
       "    </tr>\n",
       "    <tr>\n",
       "      <th>2</th>\n",
       "      <td>0.959</td>\n",
       "      <td>0.910</td>\n",
       "      <td>9.45</td>\n",
       "      <td>7.5296</td>\n",
       "      <td>80.13</td>\n",
       "      <td>94.0</td>\n",
       "    </tr>\n",
       "    <tr>\n",
       "      <th>3</th>\n",
       "      <td>0.956</td>\n",
       "      <td>0.840</td>\n",
       "      <td>5.24</td>\n",
       "      <td>5.3085</td>\n",
       "      <td>43.06</td>\n",
       "      <td>42.0</td>\n",
       "    </tr>\n",
       "    <tr>\n",
       "      <th>4</th>\n",
       "      <td>0.952</td>\n",
       "      <td>0.898</td>\n",
       "      <td>9.28</td>\n",
       "      <td>7.5864</td>\n",
       "      <td>89.60</td>\n",
       "      <td>97.0</td>\n",
       "    </tr>\n",
       "  </tbody>\n",
       "</table>\n",
       "</div>"
      ],
      "text/plain": [
       "     HDI   IHDI  democracy_eiu  Happiness_Score    wpi  FH_WFI_TOTAL\n",
       "0  0.967  0.891           9.14           7.2401  84.01          96.0\n",
       "1  0.966  0.903           9.81           7.3155  91.89         100.0\n",
       "2  0.959  0.910           9.45           7.5296  80.13          94.0\n",
       "3  0.956  0.840           5.24           5.3085  43.06          42.0\n",
       "4  0.952  0.898           9.28           7.5864  89.60          97.0"
      ]
     },
     "execution_count": 487,
     "metadata": {},
     "output_type": "execute_result"
    }
   ],
   "source": [
    "# Последний столбец содержит в себе интовые данные на самом деле, потому его обработаю отдельно\n",
    "\n",
    "data.head()"
   ]
  },
  {
   "cell_type": "code",
   "execution_count": 488,
   "id": "188fd250",
   "metadata": {},
   "outputs": [
    {
     "data": {
      "text/plain": [
       "Index(['HDI', 'IHDI', 'democracy_eiu', 'Happiness_Score', 'wpi'], dtype='object')"
      ]
     },
     "execution_count": 488,
     "metadata": {},
     "output_type": "execute_result"
    }
   ],
   "source": [
    "cols = data.drop([\"FH_WFI_TOTAL\"], axis=1).columns\n",
    "cols"
   ]
  },
  {
   "cell_type": "code",
   "execution_count": 489,
   "id": "26d5749e",
   "metadata": {},
   "outputs": [
    {
     "name": "stdout",
     "output_type": "stream",
     "text": [
      "<class 'pandas.core.frame.DataFrame'>\n",
      "RangeIndex: 201 entries, 0 to 200\n",
      "Data columns (total 6 columns):\n",
      " #   Column           Non-Null Count  Dtype  \n",
      "---  ------           --------------  -----  \n",
      " 0   HDI              201 non-null    float64\n",
      " 1   IHDI             201 non-null    float64\n",
      " 2   democracy_eiu    201 non-null    float64\n",
      " 3   Happiness_Score  201 non-null    float64\n",
      " 4   wpi              201 non-null    float64\n",
      " 5   FH_WFI_TOTAL     197 non-null    float64\n",
      "dtypes: float64(6)\n",
      "memory usage: 9.5 KB\n"
     ]
    },
    {
     "name": "stderr",
     "output_type": "stream",
     "text": [
      "C:\\Users\\Lenovo\\AppData\\Local\\Temp\\ipykernel_1800\\2647599793.py:4: FutureWarning: A value is trying to be set on a copy of a DataFrame or Series through chained assignment using an inplace method.\n",
      "The behavior will change in pandas 3.0. This inplace method will never work because the intermediate object on which we are setting values always behaves as a copy.\n",
      "\n",
      "For example, when doing 'df[col].method(value, inplace=True)', try using 'df.method({col: value}, inplace=True)' or df[col] = df[col].method(value) instead, to perform the operation inplace on the original object.\n",
      "\n",
      "\n",
      "  data[col].fillna(mean, inplace=True)\n"
     ]
    }
   ],
   "source": [
    "for col in cols:\n",
    "    mean = data[col].mean()\n",
    "\n",
    "    data[col].fillna(mean, inplace=True)\n",
    "\n",
    "data.info()"
   ]
  },
  {
   "cell_type": "code",
   "execution_count": 490,
   "id": "deba500e",
   "metadata": {},
   "outputs": [
    {
     "data": {
      "text/plain": [
       "61.0"
      ]
     },
     "execution_count": 490,
     "metadata": {},
     "output_type": "execute_result"
    }
   ],
   "source": [
    "med = data[\"FH_WFI_TOTAL\"].median()\n",
    "med"
   ]
  },
  {
   "cell_type": "code",
   "execution_count": 491,
   "id": "330446b3",
   "metadata": {},
   "outputs": [
    {
     "name": "stderr",
     "output_type": "stream",
     "text": [
      "C:\\Users\\Lenovo\\AppData\\Local\\Temp\\ipykernel_1800\\3005624118.py:1: FutureWarning: A value is trying to be set on a copy of a DataFrame or Series through chained assignment using an inplace method.\n",
      "The behavior will change in pandas 3.0. This inplace method will never work because the intermediate object on which we are setting values always behaves as a copy.\n",
      "\n",
      "For example, when doing 'df[col].method(value, inplace=True)', try using 'df.method({col: value}, inplace=True)' or df[col] = df[col].method(value) instead, to perform the operation inplace on the original object.\n",
      "\n",
      "\n",
      "  data[\"FH_WFI_TOTAL\"].fillna(med, inplace=True)\n"
     ]
    }
   ],
   "source": [
    "data[\"FH_WFI_TOTAL\"].fillna(med, inplace=True)"
   ]
  },
  {
   "cell_type": "code",
   "execution_count": 492,
   "id": "4a56329e",
   "metadata": {},
   "outputs": [
    {
     "name": "stdout",
     "output_type": "stream",
     "text": [
      "<class 'pandas.core.frame.DataFrame'>\n",
      "RangeIndex: 201 entries, 0 to 200\n",
      "Data columns (total 6 columns):\n",
      " #   Column           Non-Null Count  Dtype  \n",
      "---  ------           --------------  -----  \n",
      " 0   HDI              201 non-null    float64\n",
      " 1   IHDI             201 non-null    float64\n",
      " 2   democracy_eiu    201 non-null    float64\n",
      " 3   Happiness_Score  201 non-null    float64\n",
      " 4   wpi              201 non-null    float64\n",
      " 5   FH_WFI_TOTAL     201 non-null    float64\n",
      "dtypes: float64(6)\n",
      "memory usage: 9.5 KB\n"
     ]
    }
   ],
   "source": [
    "data.info()"
   ]
  },
  {
   "cell_type": "markdown",
   "id": "651fe300",
   "metadata": {},
   "source": [
    "# Обработка выбросов"
   ]
  },
  {
   "cell_type": "code",
   "execution_count": 493,
   "id": "0e10c67b",
   "metadata": {},
   "outputs": [
    {
     "data": {
      "application/vnd.microsoft.datawrangler.viewer.v0+json": {
       "columns": [
        {
         "name": "index",
         "rawType": "object",
         "type": "string"
        },
        {
         "name": "HDI",
         "rawType": "float64",
         "type": "float"
        },
        {
         "name": "IHDI",
         "rawType": "float64",
         "type": "float"
        },
        {
         "name": "democracy_eiu",
         "rawType": "float64",
         "type": "float"
        },
        {
         "name": "Happiness_Score",
         "rawType": "float64",
         "type": "float"
        },
        {
         "name": "wpi",
         "rawType": "float64",
         "type": "float"
        },
        {
         "name": "FH_WFI_TOTAL",
         "rawType": "float64",
         "type": "float"
        }
       ],
       "ref": "28a13ec3-4c3f-4020-88dd-fadf21ba70f3",
       "rows": [
        [
         "count",
         "201.0",
         "201.0",
         "201.0",
         "201.0",
         "201.0",
         "201.0"
        ],
        [
         "mean",
         "0.7237409326424871",
         "0.6103989637305699",
         "5.686756756756757",
         "5.539755476652272",
         "55.86938888888889",
         "57.288557213930346"
        ],
        [
         "std",
         "0.15204208375696715",
         "0.19226703149256694",
         "1.8454084144752936",
         "0.9399922825120168",
         "17.233630672725027",
         "30.91611745365126"
        ],
        [
         "min",
         "0.38",
         "0.222",
         "2.12",
         "1.8589999675750728",
         "16.64",
         "1.0"
        ],
        [
         "25%",
         "0.61",
         "0.459",
         "4.6",
         "5.253600120544434",
         "44.95",
         "29.0"
        ],
        [
         "50%",
         "0.732",
         "0.625",
         "5.686756756756757",
         "5.539755476652271",
         "55.869388888888885",
         "61.0"
        ],
        [
         "75%",
         "0.838",
         "0.772",
         "6.68",
         "6.041200160980225",
         "67.7",
         "86.0"
        ],
        [
         "max",
         "0.967",
         "0.942",
         "9.81",
         "7.804200172424316",
         "91.89",
         "100.0"
        ]
       ],
       "shape": {
        "columns": 6,
        "rows": 8
       }
      },
      "text/html": [
       "<div>\n",
       "<style scoped>\n",
       "    .dataframe tbody tr th:only-of-type {\n",
       "        vertical-align: middle;\n",
       "    }\n",
       "\n",
       "    .dataframe tbody tr th {\n",
       "        vertical-align: top;\n",
       "    }\n",
       "\n",
       "    .dataframe thead th {\n",
       "        text-align: right;\n",
       "    }\n",
       "</style>\n",
       "<table border=\"1\" class=\"dataframe\">\n",
       "  <thead>\n",
       "    <tr style=\"text-align: right;\">\n",
       "      <th></th>\n",
       "      <th>HDI</th>\n",
       "      <th>IHDI</th>\n",
       "      <th>democracy_eiu</th>\n",
       "      <th>Happiness_Score</th>\n",
       "      <th>wpi</th>\n",
       "      <th>FH_WFI_TOTAL</th>\n",
       "    </tr>\n",
       "  </thead>\n",
       "  <tbody>\n",
       "    <tr>\n",
       "      <th>count</th>\n",
       "      <td>201.000000</td>\n",
       "      <td>201.000000</td>\n",
       "      <td>201.000000</td>\n",
       "      <td>201.000000</td>\n",
       "      <td>201.000000</td>\n",
       "      <td>201.000000</td>\n",
       "    </tr>\n",
       "    <tr>\n",
       "      <th>mean</th>\n",
       "      <td>0.723741</td>\n",
       "      <td>0.610399</td>\n",
       "      <td>5.686757</td>\n",
       "      <td>5.539755</td>\n",
       "      <td>55.869389</td>\n",
       "      <td>57.288557</td>\n",
       "    </tr>\n",
       "    <tr>\n",
       "      <th>std</th>\n",
       "      <td>0.152042</td>\n",
       "      <td>0.192267</td>\n",
       "      <td>1.845408</td>\n",
       "      <td>0.939992</td>\n",
       "      <td>17.233631</td>\n",
       "      <td>30.916117</td>\n",
       "    </tr>\n",
       "    <tr>\n",
       "      <th>min</th>\n",
       "      <td>0.380000</td>\n",
       "      <td>0.222000</td>\n",
       "      <td>2.120000</td>\n",
       "      <td>1.859000</td>\n",
       "      <td>16.640000</td>\n",
       "      <td>1.000000</td>\n",
       "    </tr>\n",
       "    <tr>\n",
       "      <th>25%</th>\n",
       "      <td>0.610000</td>\n",
       "      <td>0.459000</td>\n",
       "      <td>4.600000</td>\n",
       "      <td>5.253600</td>\n",
       "      <td>44.950000</td>\n",
       "      <td>29.000000</td>\n",
       "    </tr>\n",
       "    <tr>\n",
       "      <th>50%</th>\n",
       "      <td>0.732000</td>\n",
       "      <td>0.625000</td>\n",
       "      <td>5.686757</td>\n",
       "      <td>5.539755</td>\n",
       "      <td>55.869389</td>\n",
       "      <td>61.000000</td>\n",
       "    </tr>\n",
       "    <tr>\n",
       "      <th>75%</th>\n",
       "      <td>0.838000</td>\n",
       "      <td>0.772000</td>\n",
       "      <td>6.680000</td>\n",
       "      <td>6.041200</td>\n",
       "      <td>67.700000</td>\n",
       "      <td>86.000000</td>\n",
       "    </tr>\n",
       "    <tr>\n",
       "      <th>max</th>\n",
       "      <td>0.967000</td>\n",
       "      <td>0.942000</td>\n",
       "      <td>9.810000</td>\n",
       "      <td>7.804200</td>\n",
       "      <td>91.890000</td>\n",
       "      <td>100.000000</td>\n",
       "    </tr>\n",
       "  </tbody>\n",
       "</table>\n",
       "</div>"
      ],
      "text/plain": [
       "              HDI        IHDI  democracy_eiu  Happiness_Score         wpi  \\\n",
       "count  201.000000  201.000000     201.000000       201.000000  201.000000   \n",
       "mean     0.723741    0.610399       5.686757         5.539755   55.869389   \n",
       "std      0.152042    0.192267       1.845408         0.939992   17.233631   \n",
       "min      0.380000    0.222000       2.120000         1.859000   16.640000   \n",
       "25%      0.610000    0.459000       4.600000         5.253600   44.950000   \n",
       "50%      0.732000    0.625000       5.686757         5.539755   55.869389   \n",
       "75%      0.838000    0.772000       6.680000         6.041200   67.700000   \n",
       "max      0.967000    0.942000       9.810000         7.804200   91.890000   \n",
       "\n",
       "       FH_WFI_TOTAL  \n",
       "count    201.000000  \n",
       "mean      57.288557  \n",
       "std       30.916117  \n",
       "min        1.000000  \n",
       "25%       29.000000  \n",
       "50%       61.000000  \n",
       "75%       86.000000  \n",
       "max      100.000000  "
      ]
     },
     "execution_count": 493,
     "metadata": {},
     "output_type": "execute_result"
    }
   ],
   "source": [
    "data.describe()"
   ]
  },
  {
   "cell_type": "markdown",
   "id": "999caa8b",
   "metadata": {},
   "source": [
    "## Метод межквартильного размаха"
   ]
  },
  {
   "cell_type": "code",
   "execution_count": 494,
   "id": "311c030a",
   "metadata": {},
   "outputs": [
    {
     "name": "stdout",
     "output_type": "stream",
     "text": [
      "\n",
      " === HDI ===\n",
      "Q1 = 0.61\n",
      "Q3 = 0.838\n",
      "LB = 0.268\n",
      "UB = 1.18\n"
     ]
    },
    {
     "data": {
      "image/png": "[encoded data removed]",
      "text/plain": [
       "<Figure size 600x200 with 2 Axes>"
      ]
     },
     "metadata": {},
     "output_type": "display_data"
    },
    {
     "name": "stdout",
     "output_type": "stream",
     "text": [
      "\n",
      " === IHDI ===\n",
      "Q1 = 0.459\n",
      "Q3 = 0.772\n",
      "LB = -0.01050000000000001\n",
      "UB = 1.2415\n"
     ]
    },
    {
     "data": {
      "image/png": "[encoded data removed]",
      "text/plain": [
       "<Figure size 600x200 with 2 Axes>"
      ]
     },
     "metadata": {},
     "output_type": "display_data"
    },
    {
     "name": "stdout",
     "output_type": "stream",
     "text": [
      "\n",
      " === democracy_eiu ===\n",
      "Q1 = 4.6\n",
      "Q3 = 6.68\n",
      "LB = 1.4799999999999995\n",
      "UB = 9.8\n"
     ]
    },
    {
     "data": {
      "image/png": "[encoded data removed]",
      "text/plain": [
       "<Figure size 600x200 with 2 Axes>"
      ]
     },
     "metadata": {},
     "output_type": "display_data"
    },
    {
     "name": "stdout",
     "output_type": "stream",
     "text": [
      "\n",
      " === Happiness_Score ===\n",
      "Q1 = 5.253600120544434\n",
      "Q3 = 6.041200160980225\n",
      "LB = 4.072200059890747\n",
      "UB = 7.222600221633911\n"
     ]
    },
    {
     "data": {
      "image/png": "[encoded data removed]",
      "text/plain": [
       "<Figure size 600x200 with 2 Axes>"
      ]
     },
     "metadata": {},
     "output_type": "display_data"
    },
    {
     "name": "stdout",
     "output_type": "stream",
     "text": [
      "\n",
      " === wpi ===\n",
      "Q1 = 44.95\n",
      "Q3 = 67.7\n",
      "LB = 10.825000000000003\n",
      "UB = 101.825\n"
     ]
    },
    {
     "data": {
      "image/png": "[encoded data removed]",
      "text/plain": [
       "<Figure size 600x200 with 2 Axes>"
      ]
     },
     "metadata": {},
     "output_type": "display_data"
    },
    {
     "name": "stdout",
     "output_type": "stream",
     "text": [
      "\n",
      " === FH_WFI_TOTAL ===\n",
      "Q1 = 29.0\n",
      "Q3 = 86.0\n",
      "LB = -56.5\n",
      "UB = 171.5\n"
     ]
    },
    {
     "data": {
      "image/png": "[encoded data removed]",
      "text/plain": [
       "<Figure size 600x200 with 2 Axes>"
      ]
     },
     "metadata": {},
     "output_type": "display_data"
    }
   ],
   "source": [
    "for col in data.columns:\n",
    "    Q1 = data[col].quantile(0.25)\n",
    "    Q3 = data[col].quantile(0.75)\n",
    "    IQR = Q3 - Q1\n",
    "\n",
    "    lower_bound = Q1 - 1.5 * IQR\n",
    "    upper_bound = Q3 + 1.5 * IQR\n",
    "\n",
    "    print(f\"\\n === {col} ===\")\n",
    "    print(f\"Q1 = {Q1}\")\n",
    "    print(f\"Q3 = {Q3}\")\n",
    "    print(f\"LB = {lower_bound}\")\n",
    "    print(f\"UB = {upper_bound}\")\n",
    "\n",
    "    data_prepared = data[col].copy()\n",
    "    data_prepared = data_prepared.apply(lambda x: upper_bound \n",
    "                                        if x > upper_bound else lower_bound \n",
    "                                        if x < lower_bound else x)\n",
    "\n",
    "    fig, (ax1, ax2) = plt.subplots(1, 2, figsize=(6, 2))\n",
    "    ax1.boxplot(data[col])\n",
    "    ax1.set_title('Boxplot до обработки')\n",
    "\n",
    "    ax2.boxplot(data_prepared)\n",
    "    ax2.set_title('Boxplot после обработки')\n",
    "\n",
    "    plt.show()"
   ]
  },
  {
   "cell_type": "markdown",
   "id": "0af29fad",
   "metadata": {},
   "source": [
    "## Z-score метод"
   ]
  },
  {
   "cell_type": "code",
   "execution_count": 495,
   "id": "c73839c0",
   "metadata": {},
   "outputs": [
    {
     "name": "stdout",
     "output_type": "stream",
     "text": [
      "0\n",
      "Series([], Name: HDI, dtype: float64)\n",
      "\n",
      "0\n",
      "Series([], Name: IHDI, dtype: float64)\n",
      "\n",
      "0\n",
      "Series([], Name: democracy_eiu, dtype: float64)\n",
      "\n",
      "2\n",
      "108    2.3922\n",
      "181    1.8590\n",
      "Name: Happiness_Score, dtype: float64\n",
      "\n",
      "0\n",
      "Series([], Name: wpi, dtype: float64)\n",
      "\n",
      "0\n",
      "Series([], Name: FH_WFI_TOTAL, dtype: float64)\n",
      "\n"
     ]
    }
   ],
   "source": [
    "for col in data.columns:\n",
    "    data[\"Zscore\"] = np.abs(stats.zscore(data[col]))\n",
    "\n",
    "    outliers = data[col][data[\"Zscore\"] > Z_THRESHOLD]\n",
    "\n",
    "    print(len(outliers), outliers, sep=\"\\n\")\n",
    "    print()"
   ]
  },
  {
   "cell_type": "code",
   "execution_count": 496,
   "id": "bcd76eba",
   "metadata": {},
   "outputs": [
    {
     "data": {
      "application/vnd.microsoft.datawrangler.viewer.v0+json": {
       "columns": [
        {
         "name": "index",
         "rawType": "int64",
         "type": "integer"
        },
        {
         "name": "Happiness_Score",
         "rawType": "float64",
         "type": "float"
        },
        {
         "name": "Zscore",
         "rawType": "float64",
         "type": "float"
        }
       ],
       "ref": "37407cdb-4168-4939-bdcb-9671a299be16",
       "rows": [
        [
         "0",
         "7.240099906921387",
         "1.8134084957120111"
        ],
        [
         "1",
         "7.315499782562256",
         "1.8938220711198719"
        ],
        [
         "2",
         "7.529600143432617",
         "2.122158992996266"
        ],
        [
         "3",
         "5.308499813079834",
         "0.24663296302702914"
        ],
        [
         "4",
         "7.586400032043457",
         "2.1827357789278614"
        ],
        [
         "5",
         "7.395199775695801",
         "1.9788216994796888"
        ],
        [
         "6",
         "6.8917999267578125",
         "1.4419483774905606"
        ],
        [
         "7",
         "6.910799980163574",
         "1.462211835676816"
        ],
        [
         "8",
         "6.586699962615967",
         "1.1165608517827919"
        ],
        [
         "9",
         "7.094600200653076",
         "1.6582338153510465"
        ],
        [
         "10",
         "7.402999877929687",
         "1.98714046796362"
        ],
        [
         "11",
         "6.859099864959717",
         "1.4070739315728067"
        ],
        [
         "12",
         "7.804200172424316",
         "2.415018496419051"
        ],
        [
         "13",
         "5.539755476652271",
         "9.472376674515056e-16"
        ],
        [
         "14",
         "6.795599937438965",
         "1.3393515889736642"
        ],
        [
         "15",
         "7.122900009155273",
         "1.6884154140032592"
        ],
        [
         "16",
         "6.571199893951416",
         "1.1000301091285125"
        ],
        [
         "17",
         "6.960700035095215",
         "1.5154299848580446"
        ],
        [
         "18",
         "5.951099872589111",
         "0.43869665990985734"
        ],
        [
         "19",
         "7.22790002822876",
         "1.800397388506888"
        ],
        [
         "20",
         "6.893700122833252",
         "1.4439749267269264"
        ],
        [
         "21",
         "7.097300052642822",
         "1.661113193463042"
        ],
        [
         "22",
         "6.649899959564209",
         "1.1839633199855293"
        ],
        [
         "23",
         "6.129000186920166",
         "0.6284264203365214"
        ],
        [
         "24",
         "7.472899913787842",
         "2.061688492833905"
        ],
        [
         "25",
         "6.299900054931641",
         "0.8106902411548832"
        ],
        [
         "26",
         "6.436200141906738",
         "0.9560535753634757"
        ],
        [
         "27",
         "6.661300182342529",
         "1.1961215983150226"
        ],
        [
         "28",
         "6.130000114440918",
         "0.6294928378393216"
        ],
        [
         "29",
         "6.4045000076293945",
         "0.9222455469485219"
        ],
        [
         "30",
         "6.4552001953125",
         "0.976317033549731"
        ],
        [
         "31",
         "6.845200061798096",
         "1.392249863758488"
        ],
        [
         "32",
         "5.930900096893311",
         "0.4171537041379829"
        ],
        [
         "33",
         "6.173200130462647",
         "0.6755654303530044"
        ],
        [
         "34",
         "5.539755476652271",
         "9.472376674515056e-16"
        ],
        [
         "35",
         "6.259699821472168",
         "0.767816901149602"
        ],
        [
         "36",
         "6.212699890136719",
         "0.7176917187075391"
        ],
        [
         "37",
         "6.763000011444092",
         "1.3045839373694954"
        ],
        [
         "38",
         "6.125",
         "0.6241602417809702"
        ],
        [
         "39",
         "5.539755476652271",
         "9.472376674515056e-16"
        ],
        [
         "40",
         "6.462600231170654",
         "0.9842091333236731"
        ],
        [
         "41",
         "5.9679999351501465",
         "0.456720488776927"
        ],
        [
         "42",
         "5.539755476652271",
         "9.472376674515056e-16"
        ],
        [
         "43",
         "6.333799839019775",
         "0.8468441846582574"
        ],
        [
         "44",
         "6.468599796295166",
         "0.9906076383404743"
        ],
        [
         "45",
         "5.539755476652271",
         "9.472376674515056e-16"
        ],
        [
         "46",
         "6.041200160980225",
         "0.5347881490963673"
        ],
        [
         "47",
         "6.02370023727417",
         "0.5161245714364876"
        ],
        [
         "48",
         "5.539755476652271",
         "9.472376674515056e-16"
        ],
        [
         "49",
         "5.7221999168396",
         "0.19457604702992953"
        ]
       ],
       "shape": {
        "columns": 2,
        "rows": 201
       }
      },
      "text/html": [
       "<div>\n",
       "<style scoped>\n",
       "    .dataframe tbody tr th:only-of-type {\n",
       "        vertical-align: middle;\n",
       "    }\n",
       "\n",
       "    .dataframe tbody tr th {\n",
       "        vertical-align: top;\n",
       "    }\n",
       "\n",
       "    .dataframe thead th {\n",
       "        text-align: right;\n",
       "    }\n",
       "</style>\n",
       "<table border=\"1\" class=\"dataframe\">\n",
       "  <thead>\n",
       "    <tr style=\"text-align: right;\">\n",
       "      <th></th>\n",
       "      <th>Happiness_Score</th>\n",
       "      <th>Zscore</th>\n",
       "    </tr>\n",
       "  </thead>\n",
       "  <tbody>\n",
       "    <tr>\n",
       "      <th>0</th>\n",
       "      <td>7.240100</td>\n",
       "      <td>1.813408e+00</td>\n",
       "    </tr>\n",
       "    <tr>\n",
       "      <th>1</th>\n",
       "      <td>7.315500</td>\n",
       "      <td>1.893822e+00</td>\n",
       "    </tr>\n",
       "    <tr>\n",
       "      <th>2</th>\n",
       "      <td>7.529600</td>\n",
       "      <td>2.122159e+00</td>\n",
       "    </tr>\n",
       "    <tr>\n",
       "      <th>3</th>\n",
       "      <td>5.308500</td>\n",
       "      <td>2.466330e-01</td>\n",
       "    </tr>\n",
       "    <tr>\n",
       "      <th>4</th>\n",
       "      <td>7.586400</td>\n",
       "      <td>2.182736e+00</td>\n",
       "    </tr>\n",
       "    <tr>\n",
       "      <th>...</th>\n",
       "      <td>...</td>\n",
       "      <td>...</td>\n",
       "    </tr>\n",
       "    <tr>\n",
       "      <th>196</th>\n",
       "      <td>5.539755</td>\n",
       "      <td>9.472377e-16</td>\n",
       "    </tr>\n",
       "    <tr>\n",
       "      <th>197</th>\n",
       "      <td>5.539755</td>\n",
       "      <td>9.472377e-16</td>\n",
       "    </tr>\n",
       "    <tr>\n",
       "      <th>198</th>\n",
       "      <td>5.539755</td>\n",
       "      <td>9.472377e-16</td>\n",
       "    </tr>\n",
       "    <tr>\n",
       "      <th>199</th>\n",
       "      <td>5.539755</td>\n",
       "      <td>9.472377e-16</td>\n",
       "    </tr>\n",
       "    <tr>\n",
       "      <th>200</th>\n",
       "      <td>5.539755</td>\n",
       "      <td>9.472377e-16</td>\n",
       "    </tr>\n",
       "  </tbody>\n",
       "</table>\n",
       "<p>201 rows × 2 columns</p>\n",
       "</div>"
      ],
      "text/plain": [
       "     Happiness_Score        Zscore\n",
       "0           7.240100  1.813408e+00\n",
       "1           7.315500  1.893822e+00\n",
       "2           7.529600  2.122159e+00\n",
       "3           5.308500  2.466330e-01\n",
       "4           7.586400  2.182736e+00\n",
       "..               ...           ...\n",
       "196         5.539755  9.472377e-16\n",
       "197         5.539755  9.472377e-16\n",
       "198         5.539755  9.472377e-16\n",
       "199         5.539755  9.472377e-16\n",
       "200         5.539755  9.472377e-16\n",
       "\n",
       "[201 rows x 2 columns]"
      ]
     },
     "execution_count": 496,
     "metadata": {},
     "output_type": "execute_result"
    }
   ],
   "source": [
    "data[\"Zscore\"] = np.abs(stats.zscore(data[\"Happiness_Score\"]))\n",
    "\n",
    "newdf = data[[\"Happiness_Score\", \"Zscore\"]]\n",
    "newdf"
   ]
  },
  {
   "cell_type": "code",
   "execution_count": 497,
   "id": "42efd8de",
   "metadata": {},
   "outputs": [
    {
     "data": {
      "application/vnd.microsoft.datawrangler.viewer.v0+json": {
       "columns": [
        {
         "name": "index",
         "rawType": "int64",
         "type": "integer"
        },
        {
         "name": "Happiness_Score",
         "rawType": "float64",
         "type": "float"
        },
        {
         "name": "Zscore",
         "rawType": "float64",
         "type": "float"
        }
       ],
       "ref": "5740d644-4494-4ff8-8bff-72ceb7bbefa7",
       "rows": [
        [
         "108",
         "2.392199993133545",
         "3.3568515607360845"
        ],
        [
         "181",
         "1.8589999675750728",
         "3.9255066161759764"
        ]
       ],
       "shape": {
        "columns": 2,
        "rows": 2
       }
      },
      "text/html": [
       "<div>\n",
       "<style scoped>\n",
       "    .dataframe tbody tr th:only-of-type {\n",
       "        vertical-align: middle;\n",
       "    }\n",
       "\n",
       "    .dataframe tbody tr th {\n",
       "        vertical-align: top;\n",
       "    }\n",
       "\n",
       "    .dataframe thead th {\n",
       "        text-align: right;\n",
       "    }\n",
       "</style>\n",
       "<table border=\"1\" class=\"dataframe\">\n",
       "  <thead>\n",
       "    <tr style=\"text-align: right;\">\n",
       "      <th></th>\n",
       "      <th>Happiness_Score</th>\n",
       "      <th>Zscore</th>\n",
       "    </tr>\n",
       "  </thead>\n",
       "  <tbody>\n",
       "    <tr>\n",
       "      <th>108</th>\n",
       "      <td>2.3922</td>\n",
       "      <td>3.356852</td>\n",
       "    </tr>\n",
       "    <tr>\n",
       "      <th>181</th>\n",
       "      <td>1.8590</td>\n",
       "      <td>3.925507</td>\n",
       "    </tr>\n",
       "  </tbody>\n",
       "</table>\n",
       "</div>"
      ],
      "text/plain": [
       "     Happiness_Score    Zscore\n",
       "108           2.3922  3.356852\n",
       "181           1.8590  3.925507"
      ]
     },
     "execution_count": 497,
     "metadata": {},
     "output_type": "execute_result"
    }
   ],
   "source": [
    "newdf[newdf[\"Zscore\"] > Z_THRESHOLD]"
   ]
  },
  {
   "cell_type": "code",
   "execution_count": 498,
   "id": "77762b0b",
   "metadata": {},
   "outputs": [
    {
     "data": {
      "application/vnd.microsoft.datawrangler.viewer.v0+json": {
       "columns": [
        {
         "name": "index",
         "rawType": "int64",
         "type": "integer"
        },
        {
         "name": "Happiness_Score",
         "rawType": "float64",
         "type": "float"
        },
        {
         "name": "Zscore",
         "rawType": "float64",
         "type": "float"
        }
       ],
       "ref": "15276997-d7a8-42d5-a79d-7948237affb2",
       "rows": [
        [
         "183",
         "3.13759994506836",
         "2.5618863869283395"
        ]
       ],
       "shape": {
        "columns": 2,
        "rows": 1
       }
      },
      "text/html": [
       "<div>\n",
       "<style scoped>\n",
       "    .dataframe tbody tr th:only-of-type {\n",
       "        vertical-align: middle;\n",
       "    }\n",
       "\n",
       "    .dataframe tbody tr th {\n",
       "        vertical-align: top;\n",
       "    }\n",
       "\n",
       "    .dataframe thead th {\n",
       "        text-align: right;\n",
       "    }\n",
       "</style>\n",
       "<table border=\"1\" class=\"dataframe\">\n",
       "  <thead>\n",
       "    <tr style=\"text-align: right;\">\n",
       "      <th></th>\n",
       "      <th>Happiness_Score</th>\n",
       "      <th>Zscore</th>\n",
       "    </tr>\n",
       "  </thead>\n",
       "  <tbody>\n",
       "    <tr>\n",
       "      <th>183</th>\n",
       "      <td>3.1376</td>\n",
       "      <td>2.561886</td>\n",
       "    </tr>\n",
       "  </tbody>\n",
       "</table>\n",
       "</div>"
      ],
      "text/plain": [
       "     Happiness_Score    Zscore\n",
       "183           3.1376  2.561886"
      ]
     },
     "execution_count": 498,
     "metadata": {},
     "output_type": "execute_result"
    }
   ],
   "source": [
    "newdf[((Z_THRESHOLD - 0.5) < newdf[\"Zscore\"]) & (newdf[\"Zscore\"] < Z_THRESHOLD)]"
   ]
  },
  {
   "cell_type": "code",
   "execution_count": 499,
   "id": "a8a5cebf",
   "metadata": {},
   "outputs": [],
   "source": [
    "data.loc[data[\"Happiness_Score\"] < 3] = 3.138"
   ]
  },
  {
   "cell_type": "markdown",
   "id": "fd31a009",
   "metadata": {},
   "source": [
    "# Отбор признаков (жадник)"
   ]
  },
  {
   "cell_type": "code",
   "execution_count": 500,
   "id": "a613df77",
   "metadata": {},
   "outputs": [
    {
     "data": {
      "application/vnd.microsoft.datawrangler.viewer.v0+json": {
       "columns": [
        {
         "name": "index",
         "rawType": "int64",
         "type": "integer"
        },
        {
         "name": "HDI",
         "rawType": "float64",
         "type": "float"
        },
        {
         "name": "IHDI",
         "rawType": "float64",
         "type": "float"
        },
        {
         "name": "democracy_eiu",
         "rawType": "float64",
         "type": "float"
        },
        {
         "name": "Happiness_Score",
         "rawType": "float64",
         "type": "float"
        },
        {
         "name": "wpi",
         "rawType": "float64",
         "type": "float"
        },
        {
         "name": "FH_WFI_TOTAL",
         "rawType": "float64",
         "type": "float"
        }
       ],
       "ref": "a99a5833-3fd5-4178-9aa8-d84955da035f",
       "rows": [
        [
         "0",
         "0.967",
         "0.891",
         "9.14",
         "7.240099906921387",
         "84.01",
         "96.0"
        ],
        [
         "1",
         "0.966",
         "0.903",
         "9.81",
         "7.315499782562256",
         "91.89",
         "100.0"
        ],
        [
         "2",
         "0.959",
         "0.91",
         "9.45",
         "7.529600143432617",
         "80.13",
         "94.0"
        ],
        [
         "3",
         "0.956",
         "0.84",
         "5.24",
         "5.308499813079834",
         "43.06",
         "42.0"
        ],
        [
         "4",
         "0.952",
         "0.898",
         "9.28",
         "7.586400032043457",
         "89.6",
         "97.0"
        ],
        [
         "5",
         "0.952",
         "0.878",
         "9.39",
         "7.395199775695801",
         "88.32",
         "100.0"
        ],
        [
         "6",
         "0.95",
         "0.881",
         "8.8",
         "6.8917999267578125",
         "83.84",
         "94.0"
        ],
        [
         "7",
         "0.95",
         "0.886",
         "9.19",
         "6.910799980163574",
         "85.59",
         "97.0"
        ],
        [
         "8",
         "0.949",
         "0.825",
         "6.18",
         "6.586699962615967",
         "47.19",
         "47.0"
        ],
        [
         "9",
         "0.946",
         "0.86",
         "8.66",
         "7.094600200653076",
         "73.42",
         "95.0"
        ],
        [
         "10",
         "0.946",
         "0.885",
         "9.0",
         "7.402999877929687",
         "87.73",
         "97.0"
        ],
        [
         "11",
         "0.942",
         "0.878",
         "7.64",
         "6.859099864959717",
         "81.49",
         "96.0"
        ],
        [
         "12",
         "0.942",
         "0.886",
         "9.3",
         "7.804200172424316",
         "86.55",
         "100.0"
        ],
        [
         "13",
         "0.942",
         "0.942",
         "5.686756756756757",
         "5.539755476652271",
         "81.52",
         "90.0"
        ],
        [
         "14",
         "0.94",
         "0.865",
         "8.28",
         "6.795599937438965",
         "77.51",
         "93.0"
        ],
        [
         "15",
         "0.939",
         "0.856",
         "9.61",
         "7.122900009155273",
         "79.72",
         "99.0"
        ],
        [
         "16",
         "0.937",
         "0.859",
         "3.01",
         "6.571199893951416",
         "30.62",
         "18.0"
        ],
        [
         "17",
         "0.935",
         "0.864",
         "8.69",
         "6.960700035095215",
         "81.7",
         "98.0"
        ],
        [
         "18",
         "0.929",
         "0.841",
         "8.09",
         "5.951099872589111",
         "64.87",
         "83.0"
        ],
        [
         "19",
         "0.927",
         "0.839",
         "8.81",
         "7.22790002822876",
         "83.8",
         "97.0"
        ],
        [
         "20",
         "0.927",
         "0.823",
         "7.85",
         "6.893700122833252",
         "66.59",
         "83.0"
        ],
        [
         "21",
         "0.926",
         "0.859",
         "8.28",
         "7.097300052642822",
         "74.69",
         "93.0"
        ],
        [
         "22",
         "0.926",
         "0.882",
         "7.75",
         "6.649899959564209",
         "72.6",
         "95.0"
        ],
        [
         "23",
         "0.92",
         "0.844",
         "8.4",
         "6.129000186920166",
         "62.12",
         "96.0"
        ],
        [
         "24",
         "0.915",
         "0.808",
         "7.8",
         "7.472899913787842",
         "53.23",
         "77.0"
        ],
        [
         "25",
         "0.915",
         "0.837",
         "7.93",
         "6.299900054931641",
         "60.96",
         "89.0"
        ],
        [
         "26",
         "0.911",
         "0.796",
         "8.07",
         "6.436200141906738",
         "76.01",
         "90.0"
        ],
        [
         "27",
         "0.91",
         "0.82",
         "8.07",
         "6.661300182342529",
         "78.65",
         "89.0"
        ],
        [
         "28",
         "0.907",
         "0.827",
         "7.38",
         "6.130000114440918",
         "63.14",
         "92.0"
        ],
        [
         "29",
         "0.906",
         "0.802",
         "7.69",
         "6.4045000076293945",
         "69.8",
         "90.0"
        ],
        [
         "30",
         "0.899",
         "0.835",
         "7.96",
         "6.4552001953125",
         "86.44",
         "94.0"
        ],
        [
         "31",
         "0.895",
         "0.848",
         "7.97",
         "6.845200061798096",
         "80.14",
         "92.0"
        ],
        [
         "32",
         "0.893",
         "0.801",
         "8.14",
         "5.930900096893311",
         "57.15",
         "86.0"
        ],
        [
         "33",
         "0.888",
         "0.888",
         "2.52",
         "6.173200130462647",
         "23.21",
         "12.0"
        ],
        [
         "34",
         "0.884",
         "0.81",
         "5.686756756756757",
         "5.539755476652271",
         "61.44",
         "93.0"
        ],
        [
         "35",
         "0.881",
         "0.797",
         "7.18",
         "6.259699821472168",
         "69.17",
         "81.0"
        ],
        [
         "36",
         "0.879",
         "0.802",
         "7.38",
         "6.212699890136719",
         "82.9",
         "88.0"
        ],
        [
         "37",
         "0.879",
         "0.795",
         "7.31",
         "6.763000011444092",
         "81.73",
         "89.0"
        ],
        [
         "38",
         "0.878",
         "0.817",
         "6.5",
         "6.125",
         "68.79",
         "84.0"
        ],
        [
         "39",
         "0.875",
         "0.875",
         "3.65",
         "5.539755476652271",
         "58.48",
         "25.0"
        ],
        [
         "40",
         "0.875",
         "0.875",
         "5.686756756756757",
         "6.462600231170654",
         "27.14",
         "8.0"
        ],
        [
         "41",
         "0.874",
         "0.774",
         "7.75",
         "5.9679999351501465",
         "85.9",
         "96.0"
        ],
        [
         "42",
         "0.867",
         "0.867",
         "5.686756756756757",
         "5.539755476652271",
         "55.869388888888885",
         "97.0"
        ],
        [
         "43",
         "0.86",
         "0.704",
         "7.98",
         "6.333799839019775",
         "67.32",
         "94.0"
        ],
        [
         "44",
         "0.855",
         "0.808",
         "7.07",
         "6.468599796295166",
         "76.03",
         "90.0"
        ],
        [
         "45",
         "0.855",
         "0.717",
         "4.33",
         "5.539755476652271",
         "31.6",
         "32.0"
        ],
        [
         "46",
         "0.851",
         "0.8",
         "6.72",
         "6.041200160980225",
         "62.98",
         "66.0"
        ],
        [
         "47",
         "0.849",
         "0.747",
         "6.62",
         "6.02370023727417",
         "63.13",
         "85.0"
        ],
        [
         "48",
         "0.847",
         "0.847",
         "3.5",
         "5.539755476652271",
         "44.66",
         "37.0"
        ],
        [
         "49",
         "0.844",
         "0.756",
         "6.67",
         "5.7221999168396",
         "73.21",
         "67.0"
        ]
       ],
       "shape": {
        "columns": 6,
        "rows": 201
       }
      },
      "text/html": [
       "<div>\n",
       "<style scoped>\n",
       "    .dataframe tbody tr th:only-of-type {\n",
       "        vertical-align: middle;\n",
       "    }\n",
       "\n",
       "    .dataframe tbody tr th {\n",
       "        vertical-align: top;\n",
       "    }\n",
       "\n",
       "    .dataframe thead th {\n",
       "        text-align: right;\n",
       "    }\n",
       "</style>\n",
       "<table border=\"1\" class=\"dataframe\">\n",
       "  <thead>\n",
       "    <tr style=\"text-align: right;\">\n",
       "      <th></th>\n",
       "      <th>HDI</th>\n",
       "      <th>IHDI</th>\n",
       "      <th>democracy_eiu</th>\n",
       "      <th>Happiness_Score</th>\n",
       "      <th>wpi</th>\n",
       "      <th>FH_WFI_TOTAL</th>\n",
       "    </tr>\n",
       "  </thead>\n",
       "  <tbody>\n",
       "    <tr>\n",
       "      <th>0</th>\n",
       "      <td>0.967000</td>\n",
       "      <td>0.891000</td>\n",
       "      <td>9.140000</td>\n",
       "      <td>7.240100</td>\n",
       "      <td>84.010000</td>\n",
       "      <td>96.0</td>\n",
       "    </tr>\n",
       "    <tr>\n",
       "      <th>1</th>\n",
       "      <td>0.966000</td>\n",
       "      <td>0.903000</td>\n",
       "      <td>9.810000</td>\n",
       "      <td>7.315500</td>\n",
       "      <td>91.890000</td>\n",
       "      <td>100.0</td>\n",
       "    </tr>\n",
       "    <tr>\n",
       "      <th>2</th>\n",
       "      <td>0.959000</td>\n",
       "      <td>0.910000</td>\n",
       "      <td>9.450000</td>\n",
       "      <td>7.529600</td>\n",
       "      <td>80.130000</td>\n",
       "      <td>94.0</td>\n",
       "    </tr>\n",
       "    <tr>\n",
       "      <th>3</th>\n",
       "      <td>0.956000</td>\n",
       "      <td>0.840000</td>\n",
       "      <td>5.240000</td>\n",
       "      <td>5.308500</td>\n",
       "      <td>43.060000</td>\n",
       "      <td>42.0</td>\n",
       "    </tr>\n",
       "    <tr>\n",
       "      <th>4</th>\n",
       "      <td>0.952000</td>\n",
       "      <td>0.898000</td>\n",
       "      <td>9.280000</td>\n",
       "      <td>7.586400</td>\n",
       "      <td>89.600000</td>\n",
       "      <td>97.0</td>\n",
       "    </tr>\n",
       "    <tr>\n",
       "      <th>...</th>\n",
       "      <td>...</td>\n",
       "      <td>...</td>\n",
       "      <td>...</td>\n",
       "      <td>...</td>\n",
       "      <td>...</td>\n",
       "      <td>...</td>\n",
       "    </tr>\n",
       "    <tr>\n",
       "      <th>196</th>\n",
       "      <td>0.723741</td>\n",
       "      <td>0.610399</td>\n",
       "      <td>5.686757</td>\n",
       "      <td>5.539755</td>\n",
       "      <td>60.190000</td>\n",
       "      <td>61.0</td>\n",
       "    </tr>\n",
       "    <tr>\n",
       "      <th>197</th>\n",
       "      <td>0.723741</td>\n",
       "      <td>0.610399</td>\n",
       "      <td>5.686757</td>\n",
       "      <td>5.539755</td>\n",
       "      <td>56.720000</td>\n",
       "      <td>61.0</td>\n",
       "    </tr>\n",
       "    <tr>\n",
       "      <th>198</th>\n",
       "      <td>0.723741</td>\n",
       "      <td>0.610399</td>\n",
       "      <td>5.686757</td>\n",
       "      <td>5.539755</td>\n",
       "      <td>20.660000</td>\n",
       "      <td>3.0</td>\n",
       "    </tr>\n",
       "    <tr>\n",
       "      <th>199</th>\n",
       "      <td>0.723741</td>\n",
       "      <td>0.610399</td>\n",
       "      <td>5.686757</td>\n",
       "      <td>5.539755</td>\n",
       "      <td>55.869389</td>\n",
       "      <td>84.0</td>\n",
       "    </tr>\n",
       "    <tr>\n",
       "      <th>200</th>\n",
       "      <td>0.723741</td>\n",
       "      <td>0.610399</td>\n",
       "      <td>5.686757</td>\n",
       "      <td>5.539755</td>\n",
       "      <td>55.869389</td>\n",
       "      <td>4.0</td>\n",
       "    </tr>\n",
       "  </tbody>\n",
       "</table>\n",
       "<p>201 rows × 6 columns</p>\n",
       "</div>"
      ],
      "text/plain": [
       "          HDI      IHDI  democracy_eiu  Happiness_Score        wpi  \\\n",
       "0    0.967000  0.891000       9.140000         7.240100  84.010000   \n",
       "1    0.966000  0.903000       9.810000         7.315500  91.890000   \n",
       "2    0.959000  0.910000       9.450000         7.529600  80.130000   \n",
       "3    0.956000  0.840000       5.240000         5.308500  43.060000   \n",
       "4    0.952000  0.898000       9.280000         7.586400  89.600000   \n",
       "..        ...       ...            ...              ...        ...   \n",
       "196  0.723741  0.610399       5.686757         5.539755  60.190000   \n",
       "197  0.723741  0.610399       5.686757         5.539755  56.720000   \n",
       "198  0.723741  0.610399       5.686757         5.539755  20.660000   \n",
       "199  0.723741  0.610399       5.686757         5.539755  55.869389   \n",
       "200  0.723741  0.610399       5.686757         5.539755  55.869389   \n",
       "\n",
       "     FH_WFI_TOTAL  \n",
       "0            96.0  \n",
       "1           100.0  \n",
       "2            94.0  \n",
       "3            42.0  \n",
       "4            97.0  \n",
       "..            ...  \n",
       "196          61.0  \n",
       "197          61.0  \n",
       "198           3.0  \n",
       "199          84.0  \n",
       "200           4.0  \n",
       "\n",
       "[201 rows x 6 columns]"
      ]
     },
     "execution_count": 500,
     "metadata": {},
     "output_type": "execute_result"
    }
   ],
   "source": [
    "data.drop([\"Zscore\"], axis=1, inplace=True)\n",
    "data"
   ]
  },
  {
   "cell_type": "code",
   "execution_count": 501,
   "id": "1fa894d4",
   "metadata": {},
   "outputs": [
    {
     "data": {
      "text/plain": [
       "(0.32617034361856434, 0.7003533464393904)"
      ]
     },
     "execution_count": 501,
     "metadata": {},
     "output_type": "execute_result"
    }
   ],
   "source": [
    "from sklearn.linear_model import LinearRegression\n",
    "from sklearn.metrics import mean_squared_error, r2_score\n",
    "from sklearn.model_selection import train_test_split\n",
    "\n",
    "y = data[\"Happiness_Score\"]\n",
    "x = data.drop([\"Happiness_Score\"], axis=1)\n",
    "\n",
    "x_train, x_test, y_train, y_test = train_test_split(x, y, test_size=0.7)\n",
    "\n",
    "model = LinearRegression()\n",
    "model.fit(x_train, y_train)\n",
    "y_pred = model.predict(x_test)\n",
    "\n",
    "r2 = r2_score(y_test, y_pred)\n",
    "mse = mean_squared_error(y_test, y_pred)\n",
    "\n",
    "r2, mse**.5"
   ]
  },
  {
   "cell_type": "code",
   "execution_count": 502,
   "id": "458d0d39",
   "metadata": {},
   "outputs": [
    {
     "name": "stdout",
     "output_type": "stream",
     "text": [
      "Index(['IHDI', 'democracy_eiu', 'wpi', 'FH_WFI_TOTAL'], dtype='object')\n",
      "Index(['HDI', 'democracy_eiu', 'wpi', 'FH_WFI_TOTAL'], dtype='object')\n",
      "Index(['HDI', 'IHDI', 'wpi', 'FH_WFI_TOTAL'], dtype='object')\n",
      "Index(['HDI', 'IHDI', 'democracy_eiu', 'FH_WFI_TOTAL'], dtype='object')\n",
      "Index(['HDI', 'IHDI', 'democracy_eiu', 'wpi'], dtype='object')\n",
      "[0.35642791804912755, 0.2924710477723026, -0.9884604318007777, -0.8355277334122433, -1.9600659439511356] FH_WFI_TOTAL\n",
      "\n",
      "Index(['IHDI', 'democracy_eiu', 'wpi'], dtype='object')\n",
      "Index(['HDI', 'democracy_eiu', 'wpi'], dtype='object')\n",
      "Index(['HDI', 'IHDI', 'wpi'], dtype='object')\n",
      "Index(['HDI', 'IHDI', 'democracy_eiu'], dtype='object')\n",
      "[-0.4750209767640934, -1.036626015400099, 0.3576011846685806, -0.6093517814052378] IHDI\n",
      "\n",
      "Index(['democracy_eiu', 'wpi'], dtype='object')\n",
      "Index(['HDI', 'wpi'], dtype='object')\n",
      "Index(['HDI', 'democracy_eiu'], dtype='object')\n",
      "[-1.041824550935397, -3.89464180487232, -0.42319970755271563] democracy_eiu\n",
      "\n",
      "Index(['wpi'], dtype='object')\n",
      "Index(['HDI'], dtype='object')\n",
      "[0.17581735751383587, 0.10537205821887807] wpi\n",
      "\n",
      "Index([], dtype='object')\n",
      "[-0.18590831739391178] HDI\n",
      "\n"
     ]
    }
   ],
   "source": [
    "while len(x.columns) > 0:\n",
    "    model_qualities = []\n",
    "\n",
    "    for col in x.columns:\n",
    "        x_new = x.drop([col], axis=1).copy()\n",
    "\n",
    "        print(x_new.columns)\n",
    "\n",
    "        x_train, x_test, y_train, y_test = train_test_split(x, y, test_size=0.8)\n",
    "        model = LinearRegression()\n",
    "        model.fit(x_train, y_train)\n",
    "        y_pred = model.predict(x_test)\n",
    "\n",
    "        r2 = r2_score(y_test, y_pred)\n",
    "\n",
    "        model_qualities.append(r2)\n",
    "\n",
    "    worst_qual = min(model_qualities)\n",
    "    useless_col = model_qualities.index(worst_qual)\n",
    "    useless_col = x.columns[useless_col]\n",
    "\n",
    "    print(model_qualities, useless_col)\n",
    "    print()\n",
    "    x.drop([useless_col], axis=1, inplace=True)\n"
   ]
  },
  {
   "cell_type": "markdown",
   "id": "a321a412",
   "metadata": {},
   "source": [
    "хд на второй итерации получилось добиться качества получше\n",
    "\n",
    "\n",
    "0.35642791804912755 - лучшее со срезом одной фичи\n",
    "\n",
    "0.3576011846685806 - лучшее со срезом двух фич\n",
    "\n",
    "хотя энивэй линейная регрессия мрёт на выбранном датасете"
   ]
  }
 ],
 "metadata": {
  "kernelspec": {
   "display_name": "Python 3",
   "language": "python",
   "name": "python3"
  },
  "language_info": {
   "codemirror_mode": {
    "name": "ipython",
    "version": 3
   },
   "file_extension": ".py",
   "mimetype": "text/x-python",
   "name": "python",
   "nbconvert_exporter": "python",
   "pygments_lexer": "ipython3",
   "version": "3.11.1"
  }
 },
 "nbformat": 4,
 "nbformat_minor": 5
}
